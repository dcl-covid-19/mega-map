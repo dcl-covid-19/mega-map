{
 "cells": [
  {
   "cell_type": "code",
   "execution_count": 2,
   "metadata": {},
   "outputs": [],
   "source": [
    "import pandas as pd\n",
    "import requests\n",
    "import json\n",
    "from datetime import date"
   ]
  },
  {
   "cell_type": "markdown",
   "metadata": {},
   "source": [
    "## Get raw data from [map](https://csj.maps.arcgis.com/apps/webappviewer/index.html?appid=ddf8ba621416421ebd3fa5ebeeb5e684)\n",
    "\n",
    "app id = ddf8ba621416421ebd3fa5ebeeb5e684\n",
    "\n",
    "webmap id = ccacd1984a944111b23a2b5f00d1c3a2\n",
    "\n",
    "7 datasets at https://services.arcgis.com/6kSayNlqm3HvsYZ8/ArcGIS/rest/services/EOC_COVID19_SantaClaraCountyFoodAccess/FeatureServer"
   ]
  },
  {
   "cell_type": "code",
   "execution_count": 3,
   "metadata": {},
   "outputs": [],
   "source": [
    "url = \"https://services.arcgis.com/6kSayNlqm3HvsYZ8/ArcGIS/rest/services/EOC_COVID19_SantaClaraCountyFoodAccess/FeatureServer/%s/query\"\n",
    "dfs = []\n",
    "\n",
    "params = {\n",
    "    \"f\":\"json\",\n",
    "    \"where\":\"1=1\",\n",
    "    \"returnGeometry\":\"true\",\n",
    "    \"outFields\":\"*\",\n",
    "}\n",
    "\n",
    "for id in range(1, 8):\n",
    "  res = requests.get(url % id, params=params)\n",
    "  df = pd.json_normalize(json.loads(res.text)['features'])\n",
    "  dfs.append(df)"
   ]
  },
  {
   "cell_type": "code",
   "execution_count": 4,
   "metadata": {},
   "outputs": [],
   "source": [
    "raw_df = pd.concat(dfs)"
   ]
  },
  {
   "cell_type": "code",
   "execution_count": 5,
   "metadata": {},
   "outputs": [],
   "source": [
    "today = date.today()\n",
    "filename = 'santa_clara_raw_%s.csv' % (today.strftime(\"%m_%d_%Y\"))\n",
    "raw_df.to_csv(filename)"
   ]
  },
  {
   "cell_type": "code",
   "execution_count": null,
   "metadata": {},
   "outputs": [],
   "source": []
  }
 ],
 "metadata": {
  "kernelspec": {
   "display_name": "county-scraping-env",
   "language": "python",
   "name": "county-scraping-env"
  },
  "language_info": {
   "codemirror_mode": {
    "name": "ipython",
    "version": 3
   },
   "file_extension": ".py",
   "mimetype": "text/x-python",
   "name": "python",
   "nbconvert_exporter": "python",
   "pygments_lexer": "ipython3",
   "version": "3.8.0"
  }
 },
 "nbformat": 4,
 "nbformat_minor": 4
}
